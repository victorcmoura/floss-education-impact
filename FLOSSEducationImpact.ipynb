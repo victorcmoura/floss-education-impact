{
 "cells": [
  {
   "cell_type": "markdown",
   "metadata": {},
   "source": [
    "# FLOSS Education Impact"
   ]
  },
  {
   "cell_type": "code",
   "execution_count": 1,
   "metadata": {},
   "outputs": [],
   "source": [
    "import matplotlib.pyplot as plt\n",
    "from github import Github\n",
    "from getpass import getpass\n",
    "import numpy as np\n",
    "import pickle"
   ]
  },
  {
   "cell_type": "code",
   "execution_count": 2,
   "metadata": {},
   "outputs": [
    {
     "name": "stdout",
     "output_type": "stream",
     "text": [
      "········\n"
     ]
    }
   ],
   "source": [
    "token = getpass()\n",
    "g = Github(token)"
   ]
  },
  {
   "cell_type": "code",
   "execution_count": 3,
   "metadata": {},
   "outputs": [],
   "source": [
    "mdseps = g.get_organization(\"fga-eps-mds\")\n",
    "repos = mdseps.get_repos()"
   ]
  },
  {
   "cell_type": "code",
   "execution_count": 13,
   "metadata": {},
   "outputs": [],
   "source": [
    "issuetime_per_repo = {}\n",
    "total_data_per_repo = {}\n",
    "\n",
    "def is_blacklisted(name):\n",
    "    blacklisted_semesters = ['2016.1', '2019.2']\n",
    "    for semester in blacklisted_semesters:\n",
    "        if semester in name:\n",
    "            return True\n",
    "    return False\n",
    "\n",
    "for repo in repos:\n",
    "    if not is_blacklisted(repo.name):\n",
    "        try:\n",
    "            with open('data/{0}.pickle'.format(repo.name), 'rb') as f:\n",
    "                data = pickle.load(f)\n",
    "                total_data_per_repo[repo.name] = data\n",
    "                \n",
    "                total_count = 0\n",
    "                total_time = 0\n",
    "                \n",
    "                for issue in total_data_per_repo[repo.name]['issues']:\n",
    "                    issue = issue['obj']\n",
    "                    total_count += 1\n",
    "                    delta = (issue.closed_at - issue.created_at)\n",
    "                    total_time += delta.seconds/3600\n",
    "\n",
    "                if total_count != 0:\n",
    "                    issuetime_per_repo[repo.name] = total_time/total_count\n",
    "\n",
    "        except FileNotFoundError:    \n",
    "            total_data_per_repo[repo.name] = {\n",
    "                'issues': [],\n",
    "            }\n",
    "            issues = repo.get_issues(state='closed')\n",
    "            total_time = 0\n",
    "            total_count = 0\n",
    "            for issue in issues:\n",
    "                comments = issue.get_comments()\n",
    "                total_data_per_repo[repo.name]['issues'].append({\n",
    "                    'obj': issue,\n",
    "                    'comments':[comment for comment in comments]\n",
    "                })\n",
    "                total_count += 1\n",
    "                delta = (issue.closed_at - issue.created_at)\n",
    "                total_time += delta.seconds/3600\n",
    "\n",
    "            if total_count != 0:\n",
    "                issuetime_per_repo[repo.name] = total_time/total_count\n",
    "\n",
    "            with open('data/{0}.pickle'.format(repo.name), 'wb') as f:\n",
    "                pickle.dump(total_data_per_repo[repo.name], f, pickle.HIGHEST_PROTOCOL)"
   ]
  },
  {
   "cell_type": "code",
   "execution_count": 14,
   "metadata": {},
   "outputs": [
    {
     "data": {
      "text/plain": [
       "{'2016.2-WikiLegis': 8.549548611111112,\n",
       " '2016.2-MissaoNascente': 8.08020947176685,\n",
       " '2016.2-Observatorio-de-Residuos-Frontend': 5.5486265432098785,\n",
       " '2016.2-SAS_FGA': 9.35678012519562,\n",
       " '2016.2-Jardim-Botanico-Web': 9.92263888888889,\n",
       " '2016.2-SME_UnB': 7.722578616352198,\n",
       " '2016.2-CidadeDemocratica': 7.119016516516516,\n",
       " '2016.2-SAAP': 1.2549666666666668,\n",
       " '2016.2-Observatorio-de-Residuos-Backend': 3.157026143790849,\n",
       " '2017.1-PlataformaJogosUnB': 9.071996632996633,\n",
       " '2017.1-Trezentos': 10.434939939939936,\n",
       " '2017.1-Forum-Coordenadores-DEG': 11.170503812636161,\n",
       " '2017.1-Escola-X': 6.749613010446344,\n",
       " '2017.1-SIGS': 5.816900966183579,\n",
       " '2017.1-Cadernos-API': 6.505497985031662,\n",
       " '2017.1-OndeE-UnB': 7.047137681159416,\n",
       " '2017.1-Trezentos-RestAPI': 0.0016666666666666668,\n",
       " '2017.1-DEG-API': 2.4651666666666663,\n",
       " '2017.1-Cadernos-APP': 5.54661111111111,\n",
       " '2017.2-AjudaConselheiro-Backend': 2.771587301587302,\n",
       " '2017.2-Receita-Mais': 7.012987147595351,\n",
       " '2017.2-MerendaMais': 8.941276830808077,\n",
       " '2017.2-Classificacao-de-Risco-Pediatrico': 6.573602981029807,\n",
       " '2017.2-DepuTinder': 4.481433438155135,\n",
       " '2017.2-QueroCultura': 8.874319571865446,\n",
       " '2017.2-SiGI-Op_API': 9.089190972222223,\n",
       " '2017.2-SiGI-Op': 6.719937275985663,\n",
       " '2017.2-AjudaConselheiro-Frontend': 9.770343567251468,\n",
       " '2017.2-MerendaMais-Backend': 5.404166666666667,\n",
       " '2017.2-DepuTinder-API': 2.4357979797979796,\n",
       " '2018.1-Reabilitacao-Motora': 8.291959541062797,\n",
       " '2018.1-Cardinals': 7.602592072409487,\n",
       " '2018.1-TropicalHazards-BI': 10.96995936761229,\n",
       " '2018.1_Nexte': 9.911342498302782,\n",
       " '2018.1-Dr-Down': 10.035338872596936,\n",
       " '2018.1_Gerencia_mais': 9.125381831342748,\n",
       " '2018.1-VoxPop-WebApp': 7.282773148148151,\n",
       " '2018.1-Lacos-da-Alegria': 10.148961091054957,\n",
       " '2018.1-IncluCare_API': 8.222791666666664,\n",
       " '2018.1-VoxPop-API': 8.851086358635861,\n",
       " '2018.1-Dulce_API': 9.73539855072464,\n",
       " '2018.1-Lacos-da-Alegria-API': 8.167116858237549,\n",
       " '2018.1-TropicalHazards-BI-FrontEnd': 9.288182674199625,\n",
       " '2018.1-IncluCare': 2.7045545073375257,\n",
       " '2018.1-Reabilitacao-Motora-Launcher': 5.088767361111111,\n",
       " '2018.1-Reabilitacao-Motora-UDP-App-Android': 0.0019444444444444444,\n",
       " '2018.2-Kalkuli': 10.084504569504572,\n",
       " '2018.2-Lino': 9.336981922398587,\n",
       " '2018.2-GamesBI': 8.724631294964023,\n",
       " '2018.2-ComexStat': 11.191875000000007,\n",
       " '2018.2-Integra-Vendas': 9.134857804232805,\n",
       " '2018.2-PDF2CASH': 9.299753609541746,\n",
       " '2018.2-CarDefense': 11.93784084084084,\n",
       " '2018.2-NaturalSearch': 9.152858099062916,\n",
       " '2018.2-IndicaAi': 9.194550427350434,\n",
       " '2018.2-Roles': 8.678119658119659,\n",
       " '2018.2-FGAPP-FrontEnd': 6.43223835125448,\n",
       " '2018.2-GamesBI_SteamService': 2.960555555555555,\n",
       " '2018.2-GamesBI_TwitchService': 2.9313530465949813,\n",
       " '2018.2-GamesBI_YoutubeService': 3.0144965277777778,\n",
       " '2018.2-FGAPP-login': 5.866527777777778,\n",
       " '2018.2-FGAPP-vendedor': 11.192638888888888,\n",
       " '2018.2-FGAPP-produto': 6.291121399176956,\n",
       " '2018.2-FGAPP-vendas': 3.6299537037037033,\n",
       " '2018.2-GamesBI_IgdbService': 2.5952555555555556,\n",
       " '2018.2-GamesBI-FrontEnd': 5.29609375,\n",
       " '2018.2-ComexStat-FrontEnd': 10.438229166666666,\n",
       " '2018.2-GamesBI_Importadores': 4.483016975308642,\n",
       " '2019.1-ADA': 8.390631153305204,\n",
       " '2019.1-PyLearner': 12.430018315018314,\n",
       " '2019.1-PretEvent': 8.549806306306309,\n",
       " '2019.1-Gaia': 8.705018867924524,\n",
       " '2019.1-hubcare-docs': 6.530787486515642,\n",
       " '2019.1-Aix': 8.689170760233921,\n",
       " '2019.1-MaisMonitoria': 9.271509259259266,\n",
       " '2019.1-Ludum': 11.018819018404907,\n",
       " '2019.1-unbrake': 10.013421845574385,\n",
       " '2019.1-MindsY': 10.562598039215686,\n",
       " '2019.1-Tino': 11.797283197831979,\n",
       " '2019.1-StreamUs-Backend': 8.48262962962963,\n",
       " '2019.1-hubcare-api': 10.620658333333333,\n",
       " '2019.1-MaisMonitoria-FrontEnd': 7.24307971014493,\n",
       " '2019.1-ADA-gitlab': 4.597345679012346,\n",
       " '2019.1-MaisMonitoria-api': 3.8973919753086417,\n",
       " '2019.1-MaisMonitoria-ApiMonitorias': 4.192107843137256,\n",
       " '2019.1-hubcare-plugin': 9.523670212765957,\n",
       " '2019.1-StreamUs-Frontend': 13.256006944444445,\n",
       " '2019.1-ADA-github': 6.338914930555555,\n",
       " '2016.1-Owla': 8.196459551656922,\n",
       " '2017.2-fisCAE': 7.760230696798494}"
      ]
     },
     "execution_count": 14,
     "metadata": {},
     "output_type": "execute_result"
    }
   ],
   "source": [
    "del issuetime_per_repo['A-Disciplina']\n",
    "\n",
    "issuetime_per_repo['2016.1-Owla'] = issuetime_per_repo['Owla']\n",
    "del issuetime_per_repo['Owla']\n",
    "\n",
    "issuetime_per_repo['2017.2-fisCAE'] = issuetime_per_repo['fisCAE-2017-2']\n",
    "del issuetime_per_repo['fisCAE-2017-2']\n",
    "\n",
    "issuetime_per_repo"
   ]
  },
  {
   "cell_type": "code",
   "execution_count": 6,
   "metadata": {},
   "outputs": [],
   "source": [
    "semesters = {}\n",
    "blacklisted_semesters = ['2016.1', '2019.2']\n",
    "for repo_name in issuetime_per_repo:\n",
    "    if not repo_name[:6] in blacklisted_semesters:\n",
    "        if repo_name[:6] in semesters:\n",
    "            semesters[repo_name[:6]].append(issuetime_per_repo[repo_name])\n",
    "        else:\n",
    "            semesters[repo_name[:6]] = [issuetime_per_repo[repo_name]]\n",
    "\n",
    "avg_closing_time_per_semester = []\n",
    "\n",
    "for semester in semesters:\n",
    "    total_delta = 0\n",
    "    for delta in semesters[semester]:\n",
    "        total_delta += delta\n",
    "        \n",
    "    avg_delta = total_delta/len(semesters[semester])\n",
    "    avg_closing_time_per_semester.append(\n",
    "        {\n",
    "            'id': semester,\n",
    "            'value': avg_delta\n",
    "        }\n",
    "    )\n",
    "    \n",
    "avg_closing_time_per_semester = sorted(\n",
    "    avg_closing_time_per_semester,\n",
    "    key=lambda x: x['id'])\n",
    "\n",
    "delta_time_series = [sem['value'] for sem in avg_closing_time_per_semester]\n",
    "semester_time_series = [sem['id'] for sem in avg_closing_time_per_semester]"
   ]
  },
  {
   "cell_type": "code",
   "execution_count": 7,
   "metadata": {
    "scrolled": true
   },
   "outputs": [
    {
     "data": {
      "text/plain": [
       "Text(0.5, 1.0, 'Average time to close issue by semester')"
      ]
     },
     "execution_count": 7,
     "metadata": {},
     "output_type": "execute_result"
    },
    {
     "data": {
      "image/png": "[encoded data removed]",
      "text/plain": [
       "<Figure size 432x288 with 1 Axes>"
      ]
     },
     "metadata": {
      "needs_background": "light"
     },
     "output_type": "display_data"
    }
   ],
   "source": [
    "plt.plot(\n",
    "    semester_time_series,\n",
    "    delta_time_series\n",
    ")\n",
    "plt.xlabel('Semester')\n",
    "plt.ylabel('Average time to close issue (hours)')\n",
    "plt.title('Average time to close issue by semester')"
   ]
  },
  {
   "cell_type": "code",
   "execution_count": 8,
   "metadata": {},
   "outputs": [],
   "source": [
    "semesters = {}\n",
    "blacklisted_semesters = ['2016.1', '2019.2']\n",
    "for repo_name in issuetime_per_repo:\n",
    "    if not repo_name[:6] in blacklisted_semesters:\n",
    "        if repo_name[:6] in semesters:\n",
    "            semesters[repo_name[:6]].append({'name': repo_name[7:], 'value':issuetime_per_repo[repo_name]})\n",
    "        else:\n",
    "            semesters[repo_name[:6]] = [{'name': repo_name[7:], 'value':issuetime_per_repo[repo_name]}]\n",
    "\n",
    "avg_closing_time_per_semester = []\n",
    "\n",
    "for semester in semesters:\n",
    "    for repo in semesters[semester]:        \n",
    "        avg_closing_time_per_semester.append(\n",
    "            {\n",
    "                'id': semester,\n",
    "                'value': repo['value'],\n",
    "                'repo': repo['name']\n",
    "            }\n",
    "        )\n",
    "        \n",
    "avg_closing_time_per_semester = sorted(\n",
    "    avg_closing_time_per_semester,\n",
    "    key=lambda x: x['id']\n",
    ")\n",
    "\n",
    "y_axis = [repo['value'] for repo in avg_closing_time_per_semester]\n",
    "x_axis = [repo['id'] for repo in avg_closing_time_per_semester]\n",
    "point_labels = [repo['repo'] for repo in avg_closing_time_per_semester]"
   ]
  },
  {
   "cell_type": "code",
   "execution_count": 9,
   "metadata": {},
   "outputs": [
    {
     "data": {
      "text/plain": [
       "Text(0.5, 1.0, 'Average time each repo took to close issue')"
      ]
     },
     "execution_count": 9,
     "metadata": {},
     "output_type": "execute_result"
    },
    {
     "data": {
      "image/png": "[encoded data removed]",
      "text/plain": [
       "<Figure size 432x288 with 1 Axes>"
      ]
     },
     "metadata": {
      "needs_background": "light"
     },
     "output_type": "display_data"
    }
   ],
   "source": [
    "plt.plot(\n",
    "    x_axis,\n",
    "    y_axis,\n",
    "    linestyle='',\n",
    "    marker='o'\n",
    ")\n",
    "plt.xlabel('Semester')\n",
    "plt.ylabel('Average time to close issue (hours)')\n",
    "plt.title('Average time each repo took to close issue')"
   ]
  }
 ],
 "metadata": {
  "kernelspec": {
   "display_name": "Python 3",
   "language": "python",
   "name": "python3"
  },
  "language_info": {
   "codemirror_mode": {
    "name": "ipython",
    "version": 3
   },
   "file_extension": ".py",
   "mimetype": "text/x-python",
   "name": "python",
   "nbconvert_exporter": "python",
   "pygments_lexer": "ipython3",
   "version": "3.7.3"
  }
 },
 "nbformat": 4,
 "nbformat_minor": 2
}
